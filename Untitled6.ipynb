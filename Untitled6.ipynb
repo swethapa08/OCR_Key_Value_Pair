{
 "cells": [
  {
   "cell_type": "code",
   "execution_count": 8,
   "id": "e6379250-d914-4d18-9c29-2f8fd85ecd4d",
   "metadata": {},
   "outputs": [
    {
     "name": "stdout",
     "output_type": "stream",
     "text": [
      "Requirement already satisfied: pytesseract in c:\\python312\\lib\\site-packages (0.3.10)\n",
      "Requirement already satisfied: packaging>=21.3 in c:\\python312\\lib\\site-packages (from pytesseract) (24.0)\n",
      "Requirement already satisfied: Pillow>=8.0.0 in c:\\python312\\lib\\site-packages (from pytesseract) (10.3.0)\n"
     ]
    }
   ],
   "source": [
    "!pip install pytesseract"
   ]
  },
  {
   "cell_type": "code",
   "execution_count": 20,
   "id": "97fa53f9-3fb4-4d91-9c3c-effd804f9f88",
   "metadata": {},
   "outputs": [],
   "source": [
    "import pytesseract\n",
    "pytesseract.pytesseract.tesseract_cmd=r'C:\\Program Files\\Tesseract-OCR\\tesseract.exe'"
   ]
  },
  {
   "cell_type": "code",
   "execution_count": 21,
   "id": "81a28a1c-6f81-4f49-96fb-6f6c4226b2a3",
   "metadata": {},
   "outputs": [],
   "source": [
    "import cv2\n",
    "from PIL import Image\n",
    "from matplotlib import pyplot as plt\n",
    "import numpy as np\n",
    "import os"
   ]
  },
  {
   "cell_type": "code",
   "execution_count": 22,
   "id": "97b2a5c1-da7e-4a5e-9b4f-a25718b64f9d",
   "metadata": {},
   "outputs": [],
   "source": [
    "img_name = 'DiagSvcs/sample44.png'"
   ]
  },
  {
   "cell_type": "code",
   "execution_count": 23,
   "id": "dcc69525-056d-47a6-8b6d-d433c3eb1f6a",
   "metadata": {},
   "outputs": [],
   "source": [
    "image=cv2.imread(img_name)"
   ]
  },
  {
   "cell_type": "code",
   "execution_count": null,
   "id": "ace5f964-4e72-4b30-a5ae-d575605e3e28",
   "metadata": {},
   "outputs": [
    {
     "name": "stdout",
     "output_type": "stream",
     "text": [
      "F.M.C. No. 911F\n",
      "SCHENKER INC\n",
      "\n",
      "97 CANAL LANDING BLVD STE 7 SCHENKER\n",
      "\n",
      "US-ROCHESTER,NY 14626\n",
      "\n",
      "Schenker Contact:\n",
      "\n",
      "GINA SPIZZERI / Date.. + 111/30/2022\n",
      "Shipment #...:7887220235\n",
      "8.7.7. #. + +27670160731754\n",
      "Flight.. .:UA 181/24\n",
      "HAWB Number, , :MHG-34514835\n",
      "Corning Inc MAWB Number, , :016-24534576\n",
      "c/o Cass Information Systems Inc Dep. /Des.\n",
      "13001 Hollenberg Dr Pieces..\n",
      "c Gross Weight.: 82.0 Kg\n",
      "Bridgeton,MO 63044-2410 Chargeable Wt: 82.0 Kg\n",
      "Entry No. ot\n",
      "Outside HAWB.:\n",
      "Bill To: 000990425 Importer:\n",
      "Corning Inc Corning Inc\n",
      "1 Riverfront Plz 905 Addison Rd\n",
      "Corning,NY 14831-0001 Painted Post,NY 14870-9726\n",
      "Shipper: Ultimate Consignee:\n",
      "Corning GmbH Corning Inc\n",
      "792 Addison Rd\n",
      "D-67661 Kaiserslautern Painted Post,NY 14870-8523\n",
      "Nature Of Goods: DIES & UNFIRED FILTE\n",
      "Shp. Ref.:SHIPPER REFERENCE: 10000252762022SD0C, 2022-11-58\n",
      "CHARGES INVOICE AMOUNT\n",
      "Airfreight USD 300.94\n",
      "Air Waybill Fee USD 75.00\n",
      "Airport Handling Charges UsD 50.00\n",
      "Delivery Charges UsD 145.00\n",
      "\n",
      "TOTAL INVOICE AMOI USD 570.94\n",
      "\n",
      "If you are importer of record, payment to the broker will not relieve you\n",
      "\n",
      "of the liability for Customs charges (duties, taxes, or other debts owed\n",
      "Customs) in the event the charges are not paid by the broker, Therefore, if\n",
      "you pay by check, Customs charges may be paid with a separate check payable\n",
      "to \"U.S, Customs Service” which will be delivered to Customs by the broker.\n",
      "\n",
      "INVOICE DUE DATE 60 DAYS FROM INVOICE DATE\n",
      "PLEASE REMIT PAYMENT TO ;\n",
      "SCHENKER INC., P.O. BOX 7247-7623, PHILADELPHIA, PA 19170-7623\n",
      "\n",
      "IMPORTANT: Alll business undertaken on behalf of this transaction is subject to Schenker, Inc.'s General Terms and Conditions of Service as stated on the reverse\n",
      "side hereof and in accordance to the Tariffs and the most current version of the General Terms and Conditions of Service as stated on the Schenker USA website\n",
      "at www.dbschenkerusa.com.\n",
      "\n"
     ]
    }
   ],
   "source": [
    "cv2.imshow(\"Sample \",image)\n",
    "text=pytesseract.image_to_string(image)\n",
    "print(text)\n",
    "cv2.waitKey(0)\n",
    "cv2.destroyAllWindows()"
   ]
  },
  {
   "cell_type": "code",
   "execution_count": null,
   "id": "d9c96f6e-ca24-4a13-a818-b516bc05e980",
   "metadata": {},
   "outputs": [],
   "source": []
  }
 ],
 "metadata": {
  "kernelspec": {
   "display_name": "Python 3 (ipykernel)",
   "language": "python",
   "name": "python3"
  },
  "language_info": {
   "codemirror_mode": {
    "name": "ipython",
    "version": 3
   },
   "file_extension": ".py",
   "mimetype": "text/x-python",
   "name": "python",
   "nbconvert_exporter": "python",
   "pygments_lexer": "ipython3",
   "version": "3.12.2"
  }
 },
 "nbformat": 4,
 "nbformat_minor": 5
}
